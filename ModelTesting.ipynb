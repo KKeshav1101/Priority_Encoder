{
  "nbformat": 4,
  "nbformat_minor": 0,
  "metadata": {
    "colab": {
      "provenance": [],
      "gpuType": "T4"
    },
    "kernelspec": {
      "name": "python3",
      "display_name": "Python 3"
    },
    "language_info": {
      "name": "python"
    },
    "accelerator": "GPU"
  },
  "cells": [
    {
      "cell_type": "code",
      "execution_count": 70,
      "metadata": {
        "id": "j3qUhbQPHcTL"
      },
      "outputs": [],
      "source": [
        "import numpy as np\n",
        "import pandas as pd"
      ]
    },
    {
      "cell_type": "code",
      "source": [
        "df = pd.read_csv(\"Tasks2.csv\")"
      ],
      "metadata": {
        "id": "k5yv_HwQHswE"
      },
      "execution_count": 71,
      "outputs": []
    },
    {
      "cell_type": "code",
      "source": [
        "import re\n",
        "import nltk\n",
        "nltk.download('stopwords')\n",
        "from nltk.corpus import stopwords\n",
        "from nltk.stem.porter import PorterStemmer\n",
        "\n",
        "corpus = []\n",
        "\n",
        "for i in range(len(X)):\n",
        "  task = re.sub('[^a-zA-Z]', ' ', df.iloc[i, 4])\n",
        "  task = task.lower()\n",
        "  task = task.split()\n",
        "  ps = PorterStemmer()\n",
        "  all_stopwords = stopwords.words('english')\n",
        "  task = [ps.stem(word) for word in task if word not in all_stopwords]\n",
        "  task = ' '.join(task)\n",
        "  corpus.append(task)\n",
        "\n",
        "print(corpus)"
      ],
      "metadata": {
        "colab": {
          "base_uri": "https://localhost:8080/"
        },
        "id": "pD7DkP-wS2ha",
        "outputId": "61f8efe7-3489-4e81-f6b3-5e13b3a46c5f"
      },
      "execution_count": 72,
      "outputs": [
        {
          "output_type": "stream",
          "name": "stdout",
          "text": [
            "['math homework', 'read assign', 'lunch break', 'scienc project research', 'soccer practic', 'dinner famili', 'english essay', 'prepar tomorrow present', 'morn jog', 'histori quiz prepar', 'lunch break', 'group project meet', 'piano practic', 'physic homework', 'relax unwind', 'chemistri lab report', 'histori lectur note', 'art class', 'meet tutor', 'gym workout', 'dinner', 'french homework', 'math test prepar', 'scienc experi', 'lunch break', 'chemistri revis', 'swim practic', 'volunt work', 'music practic', 'read', 'math homework', 'scienc project', 'lunch', 'histori essay', 'gym session', 'debat practic', 'dinner friend', 'read', 'physic revis', 'chemistri lab', 'lunch', 'art project', 'basketbal practic', 'music practic', 'dinner', 'read', 'math quiz prepar', 'scienc lab report', 'lunch', 'gym workout']\n"
          ]
        },
        {
          "output_type": "stream",
          "name": "stderr",
          "text": [
            "[nltk_data] Downloading package stopwords to /root/nltk_data...\n",
            "[nltk_data]   Package stopwords is already up-to-date!\n"
          ]
        }
      ]
    },
    {
      "cell_type": "code",
      "source": [
        "from sklearn.feature_extraction.text import CountVectorizer\n",
        "cv = CountVectorizer(max_features=75)\n",
        "embed = cv.fit_transform(corpus).toarray()\n",
        "print(embed)"
      ],
      "metadata": {
        "colab": {
          "base_uri": "https://localhost:8080/"
        },
        "id": "KMhWaZI1T2i0",
        "outputId": "ba1c117b-3dcc-4b82-d49f-ebe5aa957153"
      },
      "execution_count": 73,
      "outputs": [
        {
          "output_type": "stream",
          "name": "stdout",
          "text": [
            "[[0 0 0 ... 0 0 0]\n",
            " [0 1 0 ... 0 0 0]\n",
            " [0 0 0 ... 0 0 0]\n",
            " ...\n",
            " [0 0 0 ... 0 0 0]\n",
            " [0 0 0 ... 0 0 0]\n",
            " [0 0 0 ... 0 0 1]]\n"
          ]
        }
      ]
    },
    {
      "cell_type": "code",
      "source": [
        "print(df)"
      ],
      "metadata": {
        "collapsed": true,
        "colab": {
          "base_uri": "https://localhost:8080/"
        },
        "id": "H1OiTO9dV931",
        "outputId": "c7a2767d-d41b-4737-8eea-11cd459071b4"
      },
      "execution_count": 74,
      "outputs": [
        {
          "output_type": "stream",
          "name": "stdout",
          "text": [
            "    taskid  accountname      current_datetime          due_datetime  \\\n",
            "0        1     StudentA   2024-06-23 08:00:00   2024-06-23 12:00:00   \n",
            "1        2     StudentA   2024-06-23 09:30:00   2024-06-23 11:30:00   \n",
            "2        3     StudentA   2024-06-23 12:00:00   2024-06-23 14:00:00   \n",
            "3        4     StudentA   2024-06-23 14:30:00   2024-06-23 16:00:00   \n",
            "4        5     StudentA   2024-06-23 16:30:00   2024-06-23 18:30:00   \n",
            "5        6     StudentA   2024-06-23 19:00:00   2024-06-23 21:00:00   \n",
            "6        7     StudentA   2024-06-23 21:30:00   2024-06-23 23:00:00   \n",
            "7        8     StudentA   2024-06-23 23:30:00   2024-06-24 01:00:00   \n",
            "8        9     StudentA   2024-06-24 08:00:00   2024-06-24 10:00:00   \n",
            "9       10     StudentA   2024-06-24 10:30:00   2024-06-24 13:00:00   \n",
            "10      11     StudentA   2024-06-24 13:30:00   2024-06-24 15:30:00   \n",
            "11      12     StudentA   2024-06-24 16:00:00   2024-06-24 18:00:00   \n",
            "12      13     StudentA   2024-06-24 18:30:00   2024-06-24 20:30:00   \n",
            "13      14     StudentA   2024-06-24 21:00:00   2024-06-24 23:00:00   \n",
            "14      15     StudentA   2024-06-24 23:30:00   2024-06-25 01:00:00   \n",
            "15      16     StudentA   2024-06-25 08:00:00   2024-06-25 10:00:00   \n",
            "16      17     StudentA   2024-06-25 10:30:00   2024-06-25 12:00:00   \n",
            "17      18     StudentA   2024-06-25 12:30:00   2024-06-25 14:30:00   \n",
            "18      19     StudentA   2024-06-25 15:00:00   2024-06-25 17:00:00   \n",
            "19      20     StudentA   2024-06-25 17:30:00   2024-06-25 19:00:00   \n",
            "20      21     StudentA   2024-06-25 19:30:00   2024-06-25 21:00:00   \n",
            "21      22     StudentA   2024-06-25 21:30:00   2024-06-25 23:00:00   \n",
            "22      23     StudentA   2024-06-26 08:00:00   2024-06-26 10:00:00   \n",
            "23      24     StudentA   2024-06-26 10:30:00   2024-06-26 12:00:00   \n",
            "24      25     StudentA   2024-06-26 12:30:00   2024-06-26 14:00:00   \n",
            "25      26     StudentA   2024-06-26 14:30:00   2024-06-26 16:00:00   \n",
            "26      27     StudentA   2024-06-26 16:30:00   2024-06-26 18:00:00   \n",
            "27      28     StudentA   2024-06-26 18:30:00   2024-06-26 20:00:00   \n",
            "28      29     StudentA   2024-06-26 20:30:00   2024-06-26 22:00:00   \n",
            "29      30     StudentA   2024-06-26 22:30:00   2024-06-26 23:59:00   \n",
            "30      31     StudentA   2024-06-27 08:00:00   2024-06-27 10:00:00   \n",
            "31      32     StudentA   2024-06-27 10:30:00   2024-06-27 12:00:00   \n",
            "32      33     StudentA   2024-06-27 12:30:00   2024-06-27 14:00:00   \n",
            "33      34     StudentA   2024-06-27 14:30:00   2024-06-27 16:00:00   \n",
            "34      35     StudentA   2024-06-27 16:30:00   2024-06-27 18:00:00   \n",
            "35      36     StudentA   2024-06-27 18:30:00   2024-06-27 20:00:00   \n",
            "36      37     StudentA   2024-06-27 20:30:00   2024-06-27 22:00:00   \n",
            "37      38     StudentA   2024-06-27 22:30:00   2024-06-27 23:59:00   \n",
            "38      39     StudentA   2024-06-28 08:00:00   2024-06-28 10:00:00   \n",
            "39      40     StudentA   2024-06-28 10:30:00   2024-06-28 12:00:00   \n",
            "40      41     StudentA   2024-06-28 12:30:00   2024-06-28 14:00:00   \n",
            "41      42     StudentA   2024-06-28 14:30:00   2024-06-28 16:00:00   \n",
            "42      43     StudentA   2024-06-28 16:30:00   2024-06-28 18:00:00   \n",
            "43      44     StudentA   2024-06-28 18:30:00   2024-06-28 20:00:00   \n",
            "44      45     StudentA   2024-06-28 20:30:00   2024-06-28 22:00:00   \n",
            "45      46     StudentA   2024-06-28 22:30:00   2024-06-28 23:59:00   \n",
            "46      47     StudentA   2024-06-29 08:00:00   2024-06-29 10:00:00   \n",
            "47      48     StudentA   2024-06-29 10:30:00   2024-06-29 12:00:00   \n",
            "48      49     StudentA   2024-06-29 12:30:00   2024-06-29 14:00:00   \n",
            "49      50     StudentA   2024-06-29 14:30:00   2024-06-29 16:00:00   \n",
            "\n",
            "                              brief_desc          task_type   hours_left  \\\n",
            "0                          Math homework         Curricular          4.0   \n",
            "1                     Reading assignment         Curricular         10.0   \n",
            "2                            Lunch break           Personal          2.0   \n",
            "3               Science project research         Curricular         15.0   \n",
            "4                        Soccer practice   Extra-Curricular         20.0   \n",
            "5                     Dinner with family           Personal          2.0   \n",
            "6                          English essay         Curricular          1.5   \n",
            "7    Prepare for tomorrow's presentation         Curricular         24.0   \n",
            "8                            Morning jog           Personal          2.0   \n",
            "9               History quiz preparation         Curricular         30.0   \n",
            "10                           Lunch break           Personal          2.0   \n",
            "11                 Group project meeting         Curricular         25.0   \n",
            "12                        Piano practice   Extra-Curricular         22.0   \n",
            "13                      Physics homework         Curricular         50.0   \n",
            "14                      Relax and unwind           Personal          1.5   \n",
            "15                  Chemistry lab report         Curricular          2.0   \n",
            "16                 History lecture notes         Curricular         12.0   \n",
            "17                             Art class      Co-Curricular         35.0   \n",
            "18                    Meeting with tutor         Curricular          8.0   \n",
            "19                           Gym workout   Extra-Curricular         10.0   \n",
            "20                                Dinner           Personal          1.5   \n",
            "21                       French homework         Curricular          5.0   \n",
            "22                 Math test preparation         Curricular         55.0   \n",
            "23                    Science experiment      Co-Curricular          1.5   \n",
            "24                           Lunch break           Personal          1.5   \n",
            "25                    Chemistry revision         Curricular         18.0   \n",
            "26                         Swim practice   Extra-Curricular          5.0   \n",
            "27                        Volunteer work   Extra-Curricular         70.0   \n",
            "28                        Music practice   Extra-Curricular         45.0   \n",
            "29                               Reading           Personal          2.0   \n",
            "30                         Math homework         Curricular          3.0   \n",
            "31                       Science project         Curricular          6.0   \n",
            "32                                 Lunch           Personal          1.5   \n",
            "33                         History essay         Curricular          4.0   \n",
            "34                           Gym session   Extra-Curricular          8.0   \n",
            "35                       Debate practice      Co-Curricular          1.5   \n",
            "36                   Dinner with friends           Personal          1.5   \n",
            "37                               Reading           Personal          2.0   \n",
            "38                      Physics revision         Curricular         12.0   \n",
            "39                         Chemistry lab      Co-Curricular          1.5   \n",
            "40                                 Lunch           Personal          1.5   \n",
            "41                           Art project      Co-Curricular          5.0   \n",
            "42                   Basketball practice   Extra-Curricular          6.0   \n",
            "43                        Music practice   Extra-Curricular         12.0   \n",
            "44                                Dinner           Personal          1.5   \n",
            "45                               Reading           Personal          2.0   \n",
            "46                 Math quiz preparation         Curricular          7.0   \n",
            "47                    Science lab report         Curricular          2.0   \n",
            "48                                 Lunch           Personal          1.5   \n",
            "49                           Gym workout   Extra-Curricular         15.0   \n",
            "\n",
            "     weight  completed  \n",
            "0        10      false  \n",
            "1         7      false  \n",
            "2         2      false  \n",
            "3         8      false  \n",
            "4         4      false  \n",
            "5         2      false  \n",
            "6         9      false  \n",
            "7         6      false  \n",
            "8         4      false  \n",
            "9         7      false  \n",
            "10        2      false  \n",
            "11        8      false  \n",
            "12        6      false  \n",
            "13       10      false  \n",
            "14        2      false  \n",
            "15       10      false  \n",
            "16        6      false  \n",
            "17        4      false  \n",
            "18        8      false  \n",
            "19        4      false  \n",
            "20        2      false  \n",
            "21        8      false  \n",
            "22       10      false  \n",
            "23        6      false  \n",
            "24        2      false  \n",
            "25        8      false  \n",
            "26        4      false  \n",
            "27        6      false  \n",
            "28        4      false  \n",
            "29        2      false  \n",
            "30       10      false  \n",
            "31        8      false  \n",
            "32        2      false  \n",
            "33        8      false  \n",
            "34        4      false  \n",
            "35        6      false  \n",
            "36        2      false  \n",
            "37        2      false  \n",
            "38        8      false  \n",
            "39        6      false  \n",
            "40        2      false  \n",
            "41        6      false  \n",
            "42        4      false  \n",
            "43        4      false  \n",
            "44        2      false  \n",
            "45        2      false  \n",
            "46       10      false  \n",
            "47        8      false  \n",
            "48        2      false  \n",
            "49        4      false  \n"
          ]
        }
      ]
    },
    {
      "cell_type": "code",
      "source": [
        "print(df.shape)"
      ],
      "metadata": {
        "colab": {
          "base_uri": "https://localhost:8080/"
        },
        "id": "ZTNLKlB9Xlu1",
        "outputId": "f920d9e7-a765-43c8-9c1a-bf78a99df3f3"
      },
      "execution_count": 75,
      "outputs": [
        {
          "output_type": "stream",
          "name": "stdout",
          "text": [
            "(50, 9)\n"
          ]
        }
      ]
    },
    {
      "cell_type": "code",
      "source": [
        "len(df)"
      ],
      "metadata": {
        "colab": {
          "base_uri": "https://localhost:8080/"
        },
        "id": "0JVHYgEfXo5U",
        "outputId": "f4eba225-2d22-43f4-b507-4268a1e1ccb9"
      },
      "execution_count": 76,
      "outputs": [
        {
          "output_type": "execute_result",
          "data": {
            "text/plain": [
              "50"
            ]
          },
          "metadata": {},
          "execution_count": 76
        }
      ]
    },
    {
      "cell_type": "code",
      "source": [
        "for i in range(len(df)):\n",
        "  df[' brief_desc'][i] = embed[i]\n",
        "print(df)"
      ],
      "metadata": {
        "collapsed": true,
        "colab": {
          "base_uri": "https://localhost:8080/"
        },
        "id": "6BDI-S7uXQK7",
        "outputId": "20f0292b-24a3-4f2c-e7e9-1be9338b4a64"
      },
      "execution_count": 78,
      "outputs": [
        {
          "output_type": "stream",
          "name": "stdout",
          "text": [
            "    taskid  accountname      current_datetime          due_datetime  \\\n",
            "0        1     StudentA   2024-06-23 08:00:00   2024-06-23 12:00:00   \n",
            "1        2     StudentA   2024-06-23 09:30:00   2024-06-23 11:30:00   \n",
            "2        3     StudentA   2024-06-23 12:00:00   2024-06-23 14:00:00   \n",
            "3        4     StudentA   2024-06-23 14:30:00   2024-06-23 16:00:00   \n",
            "4        5     StudentA   2024-06-23 16:30:00   2024-06-23 18:30:00   \n",
            "5        6     StudentA   2024-06-23 19:00:00   2024-06-23 21:00:00   \n",
            "6        7     StudentA   2024-06-23 21:30:00   2024-06-23 23:00:00   \n",
            "7        8     StudentA   2024-06-23 23:30:00   2024-06-24 01:00:00   \n",
            "8        9     StudentA   2024-06-24 08:00:00   2024-06-24 10:00:00   \n",
            "9       10     StudentA   2024-06-24 10:30:00   2024-06-24 13:00:00   \n",
            "10      11     StudentA   2024-06-24 13:30:00   2024-06-24 15:30:00   \n",
            "11      12     StudentA   2024-06-24 16:00:00   2024-06-24 18:00:00   \n",
            "12      13     StudentA   2024-06-24 18:30:00   2024-06-24 20:30:00   \n",
            "13      14     StudentA   2024-06-24 21:00:00   2024-06-24 23:00:00   \n",
            "14      15     StudentA   2024-06-24 23:30:00   2024-06-25 01:00:00   \n",
            "15      16     StudentA   2024-06-25 08:00:00   2024-06-25 10:00:00   \n",
            "16      17     StudentA   2024-06-25 10:30:00   2024-06-25 12:00:00   \n",
            "17      18     StudentA   2024-06-25 12:30:00   2024-06-25 14:30:00   \n",
            "18      19     StudentA   2024-06-25 15:00:00   2024-06-25 17:00:00   \n",
            "19      20     StudentA   2024-06-25 17:30:00   2024-06-25 19:00:00   \n",
            "20      21     StudentA   2024-06-25 19:30:00   2024-06-25 21:00:00   \n",
            "21      22     StudentA   2024-06-25 21:30:00   2024-06-25 23:00:00   \n",
            "22      23     StudentA   2024-06-26 08:00:00   2024-06-26 10:00:00   \n",
            "23      24     StudentA   2024-06-26 10:30:00   2024-06-26 12:00:00   \n",
            "24      25     StudentA   2024-06-26 12:30:00   2024-06-26 14:00:00   \n",
            "25      26     StudentA   2024-06-26 14:30:00   2024-06-26 16:00:00   \n",
            "26      27     StudentA   2024-06-26 16:30:00   2024-06-26 18:00:00   \n",
            "27      28     StudentA   2024-06-26 18:30:00   2024-06-26 20:00:00   \n",
            "28      29     StudentA   2024-06-26 20:30:00   2024-06-26 22:00:00   \n",
            "29      30     StudentA   2024-06-26 22:30:00   2024-06-26 23:59:00   \n",
            "30      31     StudentA   2024-06-27 08:00:00   2024-06-27 10:00:00   \n",
            "31      32     StudentA   2024-06-27 10:30:00   2024-06-27 12:00:00   \n",
            "32      33     StudentA   2024-06-27 12:30:00   2024-06-27 14:00:00   \n",
            "33      34     StudentA   2024-06-27 14:30:00   2024-06-27 16:00:00   \n",
            "34      35     StudentA   2024-06-27 16:30:00   2024-06-27 18:00:00   \n",
            "35      36     StudentA   2024-06-27 18:30:00   2024-06-27 20:00:00   \n",
            "36      37     StudentA   2024-06-27 20:30:00   2024-06-27 22:00:00   \n",
            "37      38     StudentA   2024-06-27 22:30:00   2024-06-27 23:59:00   \n",
            "38      39     StudentA   2024-06-28 08:00:00   2024-06-28 10:00:00   \n",
            "39      40     StudentA   2024-06-28 10:30:00   2024-06-28 12:00:00   \n",
            "40      41     StudentA   2024-06-28 12:30:00   2024-06-28 14:00:00   \n",
            "41      42     StudentA   2024-06-28 14:30:00   2024-06-28 16:00:00   \n",
            "42      43     StudentA   2024-06-28 16:30:00   2024-06-28 18:00:00   \n",
            "43      44     StudentA   2024-06-28 18:30:00   2024-06-28 20:00:00   \n",
            "44      45     StudentA   2024-06-28 20:30:00   2024-06-28 22:00:00   \n",
            "45      46     StudentA   2024-06-28 22:30:00   2024-06-28 23:59:00   \n",
            "46      47     StudentA   2024-06-29 08:00:00   2024-06-29 10:00:00   \n",
            "47      48     StudentA   2024-06-29 10:30:00   2024-06-29 12:00:00   \n",
            "48      49     StudentA   2024-06-29 12:30:00   2024-06-29 14:00:00   \n",
            "49      50     StudentA   2024-06-29 14:30:00   2024-06-29 16:00:00   \n",
            "\n",
            "                                           brief_desc          task_type  \\\n",
            "0   [0, 0, 0, 0, 0, 0, 0, 0, 0, 0, 0, 0, 0, 0, 0, ...         Curricular   \n",
            "1   [0, 1, 0, 0, 0, 0, 0, 0, 0, 0, 0, 0, 0, 0, 0, ...         Curricular   \n",
            "2   [0, 0, 0, 1, 0, 0, 0, 0, 0, 0, 0, 0, 0, 0, 0, ...           Personal   \n",
            "3   [0, 0, 0, 0, 0, 0, 0, 0, 0, 0, 0, 0, 0, 0, 0, ...         Curricular   \n",
            "4   [0, 0, 0, 0, 0, 0, 0, 0, 0, 0, 0, 0, 0, 0, 0, ...   Extra-Curricular   \n",
            "5   [0, 0, 0, 0, 0, 0, 0, 1, 0, 0, 0, 1, 0, 0, 0, ...           Personal   \n",
            "6   [0, 0, 0, 0, 0, 0, 0, 0, 1, 1, 0, 0, 0, 0, 0, ...         Curricular   \n",
            "7   [0, 0, 0, 0, 0, 0, 0, 0, 0, 0, 0, 0, 0, 0, 0, ...         Curricular   \n",
            "8   [0, 0, 0, 0, 0, 0, 0, 0, 0, 0, 0, 0, 0, 0, 0, ...           Personal   \n",
            "9   [0, 0, 0, 0, 0, 0, 0, 0, 0, 0, 0, 0, 0, 0, 0, ...         Curricular   \n",
            "10  [0, 0, 0, 1, 0, 0, 0, 0, 0, 0, 0, 0, 0, 0, 0, ...           Personal   \n",
            "11  [0, 0, 0, 0, 0, 0, 0, 0, 0, 0, 0, 0, 0, 0, 1, ...         Curricular   \n",
            "12  [0, 0, 0, 0, 0, 0, 0, 0, 0, 0, 0, 0, 0, 0, 0, ...   Extra-Curricular   \n",
            "13  [0, 0, 0, 0, 0, 0, 0, 0, 0, 0, 0, 0, 0, 0, 0, ...         Curricular   \n",
            "14  [0, 0, 0, 0, 0, 0, 0, 0, 0, 0, 0, 0, 0, 0, 0, ...           Personal   \n",
            "15  [0, 0, 0, 0, 1, 0, 0, 0, 0, 0, 0, 0, 0, 0, 0, ...         Curricular   \n",
            "16  [0, 0, 0, 0, 0, 0, 0, 0, 0, 0, 0, 0, 0, 0, 0, ...         Curricular   \n",
            "17  [1, 0, 0, 0, 0, 1, 0, 0, 0, 0, 0, 0, 0, 0, 0, ...      Co-Curricular   \n",
            "18  [0, 0, 0, 0, 0, 0, 0, 0, 0, 0, 0, 0, 0, 0, 0, ...         Curricular   \n",
            "19  [0, 0, 0, 0, 0, 0, 0, 0, 0, 0, 0, 0, 0, 0, 0, ...   Extra-Curricular   \n",
            "20  [0, 0, 0, 0, 0, 0, 0, 1, 0, 0, 0, 0, 0, 0, 0, ...           Personal   \n",
            "21  [0, 0, 0, 0, 0, 0, 0, 0, 0, 0, 0, 0, 1, 0, 0, ...         Curricular   \n",
            "22  [0, 0, 0, 0, 0, 0, 0, 0, 0, 0, 0, 0, 0, 0, 0, ...         Curricular   \n",
            "23  [0, 0, 0, 0, 0, 0, 0, 0, 0, 0, 1, 0, 0, 0, 0, ...      Co-Curricular   \n",
            "24  [0, 0, 0, 1, 0, 0, 0, 0, 0, 0, 0, 0, 0, 0, 0, ...           Personal   \n",
            "25  [0, 0, 0, 0, 1, 0, 0, 0, 0, 0, 0, 0, 0, 0, 0, ...         Curricular   \n",
            "26  [0, 0, 0, 0, 0, 0, 0, 0, 0, 0, 0, 0, 0, 0, 0, ...   Extra-Curricular   \n",
            "27  [0, 0, 0, 0, 0, 0, 0, 0, 0, 0, 0, 0, 0, 0, 0, ...   Extra-Curricular   \n",
            "28  [0, 0, 0, 0, 0, 0, 0, 0, 0, 0, 0, 0, 0, 0, 0, ...   Extra-Curricular   \n",
            "29  [0, 0, 0, 0, 0, 0, 0, 0, 0, 0, 0, 0, 0, 0, 0, ...           Personal   \n",
            "30  [0, 0, 0, 0, 0, 0, 0, 0, 0, 0, 0, 0, 0, 0, 0, ...         Curricular   \n",
            "31  [0, 0, 0, 0, 0, 0, 0, 0, 0, 0, 0, 0, 0, 0, 0, ...         Curricular   \n",
            "32  [0, 0, 0, 0, 0, 0, 0, 0, 0, 0, 0, 0, 0, 0, 0, ...           Personal   \n",
            "33  [0, 0, 0, 0, 0, 0, 0, 0, 0, 1, 0, 0, 0, 0, 0, ...         Curricular   \n",
            "34  [0, 0, 0, 0, 0, 0, 0, 0, 0, 0, 0, 0, 0, 0, 0, ...   Extra-Curricular   \n",
            "35  [0, 0, 0, 0, 0, 0, 1, 0, 0, 0, 0, 0, 0, 0, 0, ...      Co-Curricular   \n",
            "36  [0, 0, 0, 0, 0, 0, 0, 1, 0, 0, 0, 0, 0, 1, 0, ...           Personal   \n",
            "37  [0, 0, 0, 0, 0, 0, 0, 0, 0, 0, 0, 0, 0, 0, 0, ...           Personal   \n",
            "38  [0, 0, 0, 0, 0, 0, 0, 0, 0, 0, 0, 0, 0, 0, 0, ...         Curricular   \n",
            "39  [0, 0, 0, 0, 1, 0, 0, 0, 0, 0, 0, 0, 0, 0, 0, ...      Co-Curricular   \n",
            "40  [0, 0, 0, 0, 0, 0, 0, 0, 0, 0, 0, 0, 0, 0, 0, ...           Personal   \n",
            "41  [1, 0, 0, 0, 0, 0, 0, 0, 0, 0, 0, 0, 0, 0, 0, ...      Co-Curricular   \n",
            "42  [0, 0, 1, 0, 0, 0, 0, 0, 0, 0, 0, 0, 0, 0, 0, ...   Extra-Curricular   \n",
            "43  [0, 0, 0, 0, 0, 0, 0, 0, 0, 0, 0, 0, 0, 0, 0, ...   Extra-Curricular   \n",
            "44  [0, 0, 0, 0, 0, 0, 0, 1, 0, 0, 0, 0, 0, 0, 0, ...           Personal   \n",
            "45  [0, 0, 0, 0, 0, 0, 0, 0, 0, 0, 0, 0, 0, 0, 0, ...           Personal   \n",
            "46  [0, 0, 0, 0, 0, 0, 0, 0, 0, 0, 0, 0, 0, 0, 0, ...         Curricular   \n",
            "47  [0, 0, 0, 0, 0, 0, 0, 0, 0, 0, 0, 0, 0, 0, 0, ...         Curricular   \n",
            "48  [0, 0, 0, 0, 0, 0, 0, 0, 0, 0, 0, 0, 0, 0, 0, ...           Personal   \n",
            "49  [0, 0, 0, 0, 0, 0, 0, 0, 0, 0, 0, 0, 0, 0, 0, ...   Extra-Curricular   \n",
            "\n",
            "     hours_left   weight  completed  \n",
            "0           4.0       10      false  \n",
            "1          10.0        7      false  \n",
            "2           2.0        2      false  \n",
            "3          15.0        8      false  \n",
            "4          20.0        4      false  \n",
            "5           2.0        2      false  \n",
            "6           1.5        9      false  \n",
            "7          24.0        6      false  \n",
            "8           2.0        4      false  \n",
            "9          30.0        7      false  \n",
            "10          2.0        2      false  \n",
            "11         25.0        8      false  \n",
            "12         22.0        6      false  \n",
            "13         50.0       10      false  \n",
            "14          1.5        2      false  \n",
            "15          2.0       10      false  \n",
            "16         12.0        6      false  \n",
            "17         35.0        4      false  \n",
            "18          8.0        8      false  \n",
            "19         10.0        4      false  \n",
            "20          1.5        2      false  \n",
            "21          5.0        8      false  \n",
            "22         55.0       10      false  \n",
            "23          1.5        6      false  \n",
            "24          1.5        2      false  \n",
            "25         18.0        8      false  \n",
            "26          5.0        4      false  \n",
            "27         70.0        6      false  \n",
            "28         45.0        4      false  \n",
            "29          2.0        2      false  \n",
            "30          3.0       10      false  \n",
            "31          6.0        8      false  \n",
            "32          1.5        2      false  \n",
            "33          4.0        8      false  \n",
            "34          8.0        4      false  \n",
            "35          1.5        6      false  \n",
            "36          1.5        2      false  \n",
            "37          2.0        2      false  \n",
            "38         12.0        8      false  \n",
            "39          1.5        6      false  \n",
            "40          1.5        2      false  \n",
            "41          5.0        6      false  \n",
            "42          6.0        4      false  \n",
            "43         12.0        4      false  \n",
            "44          1.5        2      false  \n",
            "45          2.0        2      false  \n",
            "46          7.0       10      false  \n",
            "47          2.0        8      false  \n",
            "48          1.5        2      false  \n",
            "49         15.0        4      false  \n"
          ]
        },
        {
          "output_type": "stream",
          "name": "stderr",
          "text": [
            "<ipython-input-78-44d580545166>:2: SettingWithCopyWarning: \n",
            "A value is trying to be set on a copy of a slice from a DataFrame\n",
            "\n",
            "See the caveats in the documentation: https://pandas.pydata.org/pandas-docs/stable/user_guide/indexing.html#returning-a-view-versus-a-copy\n",
            "  df[' brief_desc'][i] = embed[i]\n",
            "<ipython-input-78-44d580545166>:2: SettingWithCopyWarning: \n",
            "A value is trying to be set on a copy of a slice from a DataFrame\n",
            "\n",
            "See the caveats in the documentation: https://pandas.pydata.org/pandas-docs/stable/user_guide/indexing.html#returning-a-view-versus-a-copy\n",
            "  df[' brief_desc'][i] = embed[i]\n",
            "<ipython-input-78-44d580545166>:2: SettingWithCopyWarning: \n",
            "A value is trying to be set on a copy of a slice from a DataFrame\n",
            "\n",
            "See the caveats in the documentation: https://pandas.pydata.org/pandas-docs/stable/user_guide/indexing.html#returning-a-view-versus-a-copy\n",
            "  df[' brief_desc'][i] = embed[i]\n",
            "<ipython-input-78-44d580545166>:2: SettingWithCopyWarning: \n",
            "A value is trying to be set on a copy of a slice from a DataFrame\n",
            "\n",
            "See the caveats in the documentation: https://pandas.pydata.org/pandas-docs/stable/user_guide/indexing.html#returning-a-view-versus-a-copy\n",
            "  df[' brief_desc'][i] = embed[i]\n",
            "<ipython-input-78-44d580545166>:2: SettingWithCopyWarning: \n",
            "A value is trying to be set on a copy of a slice from a DataFrame\n",
            "\n",
            "See the caveats in the documentation: https://pandas.pydata.org/pandas-docs/stable/user_guide/indexing.html#returning-a-view-versus-a-copy\n",
            "  df[' brief_desc'][i] = embed[i]\n",
            "<ipython-input-78-44d580545166>:2: SettingWithCopyWarning: \n",
            "A value is trying to be set on a copy of a slice from a DataFrame\n",
            "\n",
            "See the caveats in the documentation: https://pandas.pydata.org/pandas-docs/stable/user_guide/indexing.html#returning-a-view-versus-a-copy\n",
            "  df[' brief_desc'][i] = embed[i]\n",
            "<ipython-input-78-44d580545166>:2: SettingWithCopyWarning: \n",
            "A value is trying to be set on a copy of a slice from a DataFrame\n",
            "\n",
            "See the caveats in the documentation: https://pandas.pydata.org/pandas-docs/stable/user_guide/indexing.html#returning-a-view-versus-a-copy\n",
            "  df[' brief_desc'][i] = embed[i]\n",
            "<ipython-input-78-44d580545166>:2: SettingWithCopyWarning: \n",
            "A value is trying to be set on a copy of a slice from a DataFrame\n",
            "\n",
            "See the caveats in the documentation: https://pandas.pydata.org/pandas-docs/stable/user_guide/indexing.html#returning-a-view-versus-a-copy\n",
            "  df[' brief_desc'][i] = embed[i]\n",
            "<ipython-input-78-44d580545166>:2: SettingWithCopyWarning: \n",
            "A value is trying to be set on a copy of a slice from a DataFrame\n",
            "\n",
            "See the caveats in the documentation: https://pandas.pydata.org/pandas-docs/stable/user_guide/indexing.html#returning-a-view-versus-a-copy\n",
            "  df[' brief_desc'][i] = embed[i]\n",
            "<ipython-input-78-44d580545166>:2: SettingWithCopyWarning: \n",
            "A value is trying to be set on a copy of a slice from a DataFrame\n",
            "\n",
            "See the caveats in the documentation: https://pandas.pydata.org/pandas-docs/stable/user_guide/indexing.html#returning-a-view-versus-a-copy\n",
            "  df[' brief_desc'][i] = embed[i]\n",
            "<ipython-input-78-44d580545166>:2: SettingWithCopyWarning: \n",
            "A value is trying to be set on a copy of a slice from a DataFrame\n",
            "\n",
            "See the caveats in the documentation: https://pandas.pydata.org/pandas-docs/stable/user_guide/indexing.html#returning-a-view-versus-a-copy\n",
            "  df[' brief_desc'][i] = embed[i]\n",
            "<ipython-input-78-44d580545166>:2: SettingWithCopyWarning: \n",
            "A value is trying to be set on a copy of a slice from a DataFrame\n",
            "\n",
            "See the caveats in the documentation: https://pandas.pydata.org/pandas-docs/stable/user_guide/indexing.html#returning-a-view-versus-a-copy\n",
            "  df[' brief_desc'][i] = embed[i]\n",
            "<ipython-input-78-44d580545166>:2: SettingWithCopyWarning: \n",
            "A value is trying to be set on a copy of a slice from a DataFrame\n",
            "\n",
            "See the caveats in the documentation: https://pandas.pydata.org/pandas-docs/stable/user_guide/indexing.html#returning-a-view-versus-a-copy\n",
            "  df[' brief_desc'][i] = embed[i]\n",
            "<ipython-input-78-44d580545166>:2: SettingWithCopyWarning: \n",
            "A value is trying to be set on a copy of a slice from a DataFrame\n",
            "\n",
            "See the caveats in the documentation: https://pandas.pydata.org/pandas-docs/stable/user_guide/indexing.html#returning-a-view-versus-a-copy\n",
            "  df[' brief_desc'][i] = embed[i]\n",
            "<ipython-input-78-44d580545166>:2: SettingWithCopyWarning: \n",
            "A value is trying to be set on a copy of a slice from a DataFrame\n",
            "\n",
            "See the caveats in the documentation: https://pandas.pydata.org/pandas-docs/stable/user_guide/indexing.html#returning-a-view-versus-a-copy\n",
            "  df[' brief_desc'][i] = embed[i]\n",
            "<ipython-input-78-44d580545166>:2: SettingWithCopyWarning: \n",
            "A value is trying to be set on a copy of a slice from a DataFrame\n",
            "\n",
            "See the caveats in the documentation: https://pandas.pydata.org/pandas-docs/stable/user_guide/indexing.html#returning-a-view-versus-a-copy\n",
            "  df[' brief_desc'][i] = embed[i]\n",
            "<ipython-input-78-44d580545166>:2: SettingWithCopyWarning: \n",
            "A value is trying to be set on a copy of a slice from a DataFrame\n",
            "\n",
            "See the caveats in the documentation: https://pandas.pydata.org/pandas-docs/stable/user_guide/indexing.html#returning-a-view-versus-a-copy\n",
            "  df[' brief_desc'][i] = embed[i]\n",
            "<ipython-input-78-44d580545166>:2: SettingWithCopyWarning: \n",
            "A value is trying to be set on a copy of a slice from a DataFrame\n",
            "\n",
            "See the caveats in the documentation: https://pandas.pydata.org/pandas-docs/stable/user_guide/indexing.html#returning-a-view-versus-a-copy\n",
            "  df[' brief_desc'][i] = embed[i]\n",
            "<ipython-input-78-44d580545166>:2: SettingWithCopyWarning: \n",
            "A value is trying to be set on a copy of a slice from a DataFrame\n",
            "\n",
            "See the caveats in the documentation: https://pandas.pydata.org/pandas-docs/stable/user_guide/indexing.html#returning-a-view-versus-a-copy\n",
            "  df[' brief_desc'][i] = embed[i]\n",
            "<ipython-input-78-44d580545166>:2: SettingWithCopyWarning: \n",
            "A value is trying to be set on a copy of a slice from a DataFrame\n",
            "\n",
            "See the caveats in the documentation: https://pandas.pydata.org/pandas-docs/stable/user_guide/indexing.html#returning-a-view-versus-a-copy\n",
            "  df[' brief_desc'][i] = embed[i]\n",
            "<ipython-input-78-44d580545166>:2: SettingWithCopyWarning: \n",
            "A value is trying to be set on a copy of a slice from a DataFrame\n",
            "\n",
            "See the caveats in the documentation: https://pandas.pydata.org/pandas-docs/stable/user_guide/indexing.html#returning-a-view-versus-a-copy\n",
            "  df[' brief_desc'][i] = embed[i]\n",
            "<ipython-input-78-44d580545166>:2: SettingWithCopyWarning: \n",
            "A value is trying to be set on a copy of a slice from a DataFrame\n",
            "\n",
            "See the caveats in the documentation: https://pandas.pydata.org/pandas-docs/stable/user_guide/indexing.html#returning-a-view-versus-a-copy\n",
            "  df[' brief_desc'][i] = embed[i]\n",
            "<ipython-input-78-44d580545166>:2: SettingWithCopyWarning: \n",
            "A value is trying to be set on a copy of a slice from a DataFrame\n",
            "\n",
            "See the caveats in the documentation: https://pandas.pydata.org/pandas-docs/stable/user_guide/indexing.html#returning-a-view-versus-a-copy\n",
            "  df[' brief_desc'][i] = embed[i]\n",
            "<ipython-input-78-44d580545166>:2: SettingWithCopyWarning: \n",
            "A value is trying to be set on a copy of a slice from a DataFrame\n",
            "\n",
            "See the caveats in the documentation: https://pandas.pydata.org/pandas-docs/stable/user_guide/indexing.html#returning-a-view-versus-a-copy\n",
            "  df[' brief_desc'][i] = embed[i]\n",
            "<ipython-input-78-44d580545166>:2: SettingWithCopyWarning: \n",
            "A value is trying to be set on a copy of a slice from a DataFrame\n",
            "\n",
            "See the caveats in the documentation: https://pandas.pydata.org/pandas-docs/stable/user_guide/indexing.html#returning-a-view-versus-a-copy\n",
            "  df[' brief_desc'][i] = embed[i]\n",
            "<ipython-input-78-44d580545166>:2: SettingWithCopyWarning: \n",
            "A value is trying to be set on a copy of a slice from a DataFrame\n",
            "\n",
            "See the caveats in the documentation: https://pandas.pydata.org/pandas-docs/stable/user_guide/indexing.html#returning-a-view-versus-a-copy\n",
            "  df[' brief_desc'][i] = embed[i]\n",
            "<ipython-input-78-44d580545166>:2: SettingWithCopyWarning: \n",
            "A value is trying to be set on a copy of a slice from a DataFrame\n",
            "\n",
            "See the caveats in the documentation: https://pandas.pydata.org/pandas-docs/stable/user_guide/indexing.html#returning-a-view-versus-a-copy\n",
            "  df[' brief_desc'][i] = embed[i]\n",
            "<ipython-input-78-44d580545166>:2: SettingWithCopyWarning: \n",
            "A value is trying to be set on a copy of a slice from a DataFrame\n",
            "\n",
            "See the caveats in the documentation: https://pandas.pydata.org/pandas-docs/stable/user_guide/indexing.html#returning-a-view-versus-a-copy\n",
            "  df[' brief_desc'][i] = embed[i]\n",
            "<ipython-input-78-44d580545166>:2: SettingWithCopyWarning: \n",
            "A value is trying to be set on a copy of a slice from a DataFrame\n",
            "\n",
            "See the caveats in the documentation: https://pandas.pydata.org/pandas-docs/stable/user_guide/indexing.html#returning-a-view-versus-a-copy\n",
            "  df[' brief_desc'][i] = embed[i]\n",
            "<ipython-input-78-44d580545166>:2: SettingWithCopyWarning: \n",
            "A value is trying to be set on a copy of a slice from a DataFrame\n",
            "\n",
            "See the caveats in the documentation: https://pandas.pydata.org/pandas-docs/stable/user_guide/indexing.html#returning-a-view-versus-a-copy\n",
            "  df[' brief_desc'][i] = embed[i]\n",
            "<ipython-input-78-44d580545166>:2: SettingWithCopyWarning: \n",
            "A value is trying to be set on a copy of a slice from a DataFrame\n",
            "\n",
            "See the caveats in the documentation: https://pandas.pydata.org/pandas-docs/stable/user_guide/indexing.html#returning-a-view-versus-a-copy\n",
            "  df[' brief_desc'][i] = embed[i]\n",
            "<ipython-input-78-44d580545166>:2: SettingWithCopyWarning: \n",
            "A value is trying to be set on a copy of a slice from a DataFrame\n",
            "\n",
            "See the caveats in the documentation: https://pandas.pydata.org/pandas-docs/stable/user_guide/indexing.html#returning-a-view-versus-a-copy\n",
            "  df[' brief_desc'][i] = embed[i]\n",
            "<ipython-input-78-44d580545166>:2: SettingWithCopyWarning: \n",
            "A value is trying to be set on a copy of a slice from a DataFrame\n",
            "\n",
            "See the caveats in the documentation: https://pandas.pydata.org/pandas-docs/stable/user_guide/indexing.html#returning-a-view-versus-a-copy\n",
            "  df[' brief_desc'][i] = embed[i]\n",
            "<ipython-input-78-44d580545166>:2: SettingWithCopyWarning: \n",
            "A value is trying to be set on a copy of a slice from a DataFrame\n",
            "\n",
            "See the caveats in the documentation: https://pandas.pydata.org/pandas-docs/stable/user_guide/indexing.html#returning-a-view-versus-a-copy\n",
            "  df[' brief_desc'][i] = embed[i]\n",
            "<ipython-input-78-44d580545166>:2: SettingWithCopyWarning: \n",
            "A value is trying to be set on a copy of a slice from a DataFrame\n",
            "\n",
            "See the caveats in the documentation: https://pandas.pydata.org/pandas-docs/stable/user_guide/indexing.html#returning-a-view-versus-a-copy\n",
            "  df[' brief_desc'][i] = embed[i]\n",
            "<ipython-input-78-44d580545166>:2: SettingWithCopyWarning: \n",
            "A value is trying to be set on a copy of a slice from a DataFrame\n",
            "\n",
            "See the caveats in the documentation: https://pandas.pydata.org/pandas-docs/stable/user_guide/indexing.html#returning-a-view-versus-a-copy\n",
            "  df[' brief_desc'][i] = embed[i]\n",
            "<ipython-input-78-44d580545166>:2: SettingWithCopyWarning: \n",
            "A value is trying to be set on a copy of a slice from a DataFrame\n",
            "\n",
            "See the caveats in the documentation: https://pandas.pydata.org/pandas-docs/stable/user_guide/indexing.html#returning-a-view-versus-a-copy\n",
            "  df[' brief_desc'][i] = embed[i]\n",
            "<ipython-input-78-44d580545166>:2: SettingWithCopyWarning: \n",
            "A value is trying to be set on a copy of a slice from a DataFrame\n",
            "\n",
            "See the caveats in the documentation: https://pandas.pydata.org/pandas-docs/stable/user_guide/indexing.html#returning-a-view-versus-a-copy\n",
            "  df[' brief_desc'][i] = embed[i]\n",
            "<ipython-input-78-44d580545166>:2: SettingWithCopyWarning: \n",
            "A value is trying to be set on a copy of a slice from a DataFrame\n",
            "\n",
            "See the caveats in the documentation: https://pandas.pydata.org/pandas-docs/stable/user_guide/indexing.html#returning-a-view-versus-a-copy\n",
            "  df[' brief_desc'][i] = embed[i]\n",
            "<ipython-input-78-44d580545166>:2: SettingWithCopyWarning: \n",
            "A value is trying to be set on a copy of a slice from a DataFrame\n",
            "\n",
            "See the caveats in the documentation: https://pandas.pydata.org/pandas-docs/stable/user_guide/indexing.html#returning-a-view-versus-a-copy\n",
            "  df[' brief_desc'][i] = embed[i]\n",
            "<ipython-input-78-44d580545166>:2: SettingWithCopyWarning: \n",
            "A value is trying to be set on a copy of a slice from a DataFrame\n",
            "\n",
            "See the caveats in the documentation: https://pandas.pydata.org/pandas-docs/stable/user_guide/indexing.html#returning-a-view-versus-a-copy\n",
            "  df[' brief_desc'][i] = embed[i]\n",
            "<ipython-input-78-44d580545166>:2: SettingWithCopyWarning: \n",
            "A value is trying to be set on a copy of a slice from a DataFrame\n",
            "\n",
            "See the caveats in the documentation: https://pandas.pydata.org/pandas-docs/stable/user_guide/indexing.html#returning-a-view-versus-a-copy\n",
            "  df[' brief_desc'][i] = embed[i]\n",
            "<ipython-input-78-44d580545166>:2: SettingWithCopyWarning: \n",
            "A value is trying to be set on a copy of a slice from a DataFrame\n",
            "\n",
            "See the caveats in the documentation: https://pandas.pydata.org/pandas-docs/stable/user_guide/indexing.html#returning-a-view-versus-a-copy\n",
            "  df[' brief_desc'][i] = embed[i]\n",
            "<ipython-input-78-44d580545166>:2: SettingWithCopyWarning: \n",
            "A value is trying to be set on a copy of a slice from a DataFrame\n",
            "\n",
            "See the caveats in the documentation: https://pandas.pydata.org/pandas-docs/stable/user_guide/indexing.html#returning-a-view-versus-a-copy\n",
            "  df[' brief_desc'][i] = embed[i]\n",
            "<ipython-input-78-44d580545166>:2: SettingWithCopyWarning: \n",
            "A value is trying to be set on a copy of a slice from a DataFrame\n",
            "\n",
            "See the caveats in the documentation: https://pandas.pydata.org/pandas-docs/stable/user_guide/indexing.html#returning-a-view-versus-a-copy\n",
            "  df[' brief_desc'][i] = embed[i]\n",
            "<ipython-input-78-44d580545166>:2: SettingWithCopyWarning: \n",
            "A value is trying to be set on a copy of a slice from a DataFrame\n",
            "\n",
            "See the caveats in the documentation: https://pandas.pydata.org/pandas-docs/stable/user_guide/indexing.html#returning-a-view-versus-a-copy\n",
            "  df[' brief_desc'][i] = embed[i]\n",
            "<ipython-input-78-44d580545166>:2: SettingWithCopyWarning: \n",
            "A value is trying to be set on a copy of a slice from a DataFrame\n",
            "\n",
            "See the caveats in the documentation: https://pandas.pydata.org/pandas-docs/stable/user_guide/indexing.html#returning-a-view-versus-a-copy\n",
            "  df[' brief_desc'][i] = embed[i]\n",
            "<ipython-input-78-44d580545166>:2: SettingWithCopyWarning: \n",
            "A value is trying to be set on a copy of a slice from a DataFrame\n",
            "\n",
            "See the caveats in the documentation: https://pandas.pydata.org/pandas-docs/stable/user_guide/indexing.html#returning-a-view-versus-a-copy\n",
            "  df[' brief_desc'][i] = embed[i]\n",
            "<ipython-input-78-44d580545166>:2: SettingWithCopyWarning: \n",
            "A value is trying to be set on a copy of a slice from a DataFrame\n",
            "\n",
            "See the caveats in the documentation: https://pandas.pydata.org/pandas-docs/stable/user_guide/indexing.html#returning-a-view-versus-a-copy\n",
            "  df[' brief_desc'][i] = embed[i]\n",
            "<ipython-input-78-44d580545166>:2: SettingWithCopyWarning: \n",
            "A value is trying to be set on a copy of a slice from a DataFrame\n",
            "\n",
            "See the caveats in the documentation: https://pandas.pydata.org/pandas-docs/stable/user_guide/indexing.html#returning-a-view-versus-a-copy\n",
            "  df[' brief_desc'][i] = embed[i]\n"
          ]
        }
      ]
    },
    {
      "cell_type": "code",
      "source": [
        "df = pd.concat([df.pop(' brief_desc').apply(pd.Series), df[' task_type'], df[' hours_left'], df[' weight'], df[' completed']], axis=1)"
      ],
      "metadata": {
        "id": "nd5zuiuTYDLS"
      },
      "execution_count": 79,
      "outputs": []
    },
    {
      "cell_type": "code",
      "source": [
        "print(df)"
      ],
      "metadata": {
        "collapsed": true,
        "colab": {
          "base_uri": "https://localhost:8080/"
        },
        "id": "-X4gHJBLYWlC",
        "outputId": "1fe73229-d699-41c6-9ab3-cbbf967ec001"
      },
      "execution_count": 80,
      "outputs": [
        {
          "output_type": "stream",
          "name": "stdout",
          "text": [
            "    0  1  2  3  4  5  6  7  8  9  ...  44  45  46  47  48  49  \\\n",
            "0   0  0  0  0  0  0  0  0  0  0  ...   0   0   0   0   0   0   \n",
            "1   0  1  0  0  0  0  0  0  0  0  ...   0   0   0   0   0   0   \n",
            "2   0  0  0  1  0  0  0  0  0  0  ...   0   0   0   0   0   0   \n",
            "3   0  0  0  0  0  0  0  0  0  0  ...   0   0   0   0   0   0   \n",
            "4   0  0  0  0  0  0  0  0  0  0  ...   0   0   0   0   0   0   \n",
            "5   0  0  0  0  0  0  0  1  0  0  ...   0   0   0   0   0   0   \n",
            "6   0  0  0  0  0  0  0  0  1  1  ...   0   0   0   0   0   0   \n",
            "7   0  0  0  0  0  0  0  0  0  0  ...   1   0   0   0   0   0   \n",
            "8   0  0  0  0  0  0  0  0  0  0  ...   0   0   0   0   0   0   \n",
            "9   0  0  0  0  0  0  0  0  0  0  ...   0   0   0   0   0   0   \n",
            "10  0  0  0  1  0  0  0  0  0  0  ...   0   0   0   0   0   0   \n",
            "11  0  0  0  0  0  0  0  0  0  0  ...   0   0   0   0   0   0   \n",
            "12  0  0  0  0  0  0  0  0  0  0  ...   0   0   0   0   0   0   \n",
            "13  0  0  0  0  0  0  0  0  0  0  ...   0   0   0   0   0   0   \n",
            "14  0  0  0  0  0  0  0  0  0  0  ...   0   0   1   0   0   0   \n",
            "15  0  0  0  0  1  0  0  0  0  0  ...   0   0   0   0   0   0   \n",
            "16  0  0  0  0  0  0  0  0  0  0  ...   0   0   0   0   0   0   \n",
            "17  1  0  0  0  0  1  0  0  0  0  ...   0   0   0   0   0   0   \n",
            "18  0  0  0  0  0  0  0  0  0  0  ...   0   1   0   0   0   0   \n",
            "19  0  0  0  0  0  0  0  0  0  0  ...   0   0   0   0   0   1   \n",
            "20  0  0  0  0  0  0  0  1  0  0  ...   0   0   0   0   0   0   \n",
            "21  0  0  0  0  0  0  0  0  0  0  ...   0   0   0   0   0   0   \n",
            "22  0  0  0  0  0  0  0  0  0  0  ...   0   0   0   0   0   0   \n",
            "23  0  0  0  0  0  0  0  0  0  0  ...   0   0   0   0   0   0   \n",
            "24  0  0  0  1  0  0  0  0  0  0  ...   0   0   0   0   0   0   \n",
            "25  0  0  0  0  1  0  0  0  0  0  ...   0   0   0   0   0   0   \n",
            "26  0  0  0  0  0  0  0  0  0  0  ...   0   0   0   0   0   0   \n",
            "27  0  0  0  0  0  0  0  0  0  0  ...   0   0   0   1   1   0   \n",
            "28  0  0  0  0  0  0  0  0  0  0  ...   0   0   0   0   0   0   \n",
            "29  0  0  0  0  0  0  0  0  0  0  ...   0   0   0   0   0   0   \n",
            "30  0  0  0  0  0  0  0  0  0  0  ...   0   0   0   0   0   0   \n",
            "31  0  0  0  0  0  0  0  0  0  0  ...   0   0   0   0   0   0   \n",
            "32  0  0  0  0  0  0  0  0  0  0  ...   0   0   0   0   0   0   \n",
            "33  0  0  0  0  0  0  0  0  0  1  ...   0   0   0   0   0   0   \n",
            "34  0  0  0  0  0  0  0  0  0  0  ...   0   0   0   0   0   0   \n",
            "35  0  0  0  0  0  0  1  0  0  0  ...   0   0   0   0   0   0   \n",
            "36  0  0  0  0  0  0  0  1  0  0  ...   0   0   0   0   0   0   \n",
            "37  0  0  0  0  0  0  0  0  0  0  ...   0   0   0   0   0   0   \n",
            "38  0  0  0  0  0  0  0  0  0  0  ...   0   0   0   0   0   0   \n",
            "39  0  0  0  0  1  0  0  0  0  0  ...   0   0   0   0   0   0   \n",
            "40  0  0  0  0  0  0  0  0  0  0  ...   0   0   0   0   0   0   \n",
            "41  1  0  0  0  0  0  0  0  0  0  ...   0   0   0   0   0   0   \n",
            "42  0  0  1  0  0  0  0  0  0  0  ...   0   0   0   0   0   0   \n",
            "43  0  0  0  0  0  0  0  0  0  0  ...   0   0   0   0   0   0   \n",
            "44  0  0  0  0  0  0  0  1  0  0  ...   0   0   0   0   0   0   \n",
            "45  0  0  0  0  0  0  0  0  0  0  ...   0   0   0   0   0   0   \n",
            "46  0  0  0  0  0  0  0  0  0  0  ...   0   0   0   0   0   0   \n",
            "47  0  0  0  0  0  0  0  0  0  0  ...   0   0   0   0   0   0   \n",
            "48  0  0  0  0  0  0  0  0  0  0  ...   0   0   0   0   0   0   \n",
            "49  0  0  0  0  0  0  0  0  0  0  ...   0   0   0   0   0   1   \n",
            "\n",
            "            task_type   hours_left   weight   completed  \n",
            "0          Curricular          4.0       10       false  \n",
            "1          Curricular         10.0        7       false  \n",
            "2            Personal          2.0        2       false  \n",
            "3          Curricular         15.0        8       false  \n",
            "4    Extra-Curricular         20.0        4       false  \n",
            "5            Personal          2.0        2       false  \n",
            "6          Curricular          1.5        9       false  \n",
            "7          Curricular         24.0        6       false  \n",
            "8            Personal          2.0        4       false  \n",
            "9          Curricular         30.0        7       false  \n",
            "10           Personal          2.0        2       false  \n",
            "11         Curricular         25.0        8       false  \n",
            "12   Extra-Curricular         22.0        6       false  \n",
            "13         Curricular         50.0       10       false  \n",
            "14           Personal          1.5        2       false  \n",
            "15         Curricular          2.0       10       false  \n",
            "16         Curricular         12.0        6       false  \n",
            "17      Co-Curricular         35.0        4       false  \n",
            "18         Curricular          8.0        8       false  \n",
            "19   Extra-Curricular         10.0        4       false  \n",
            "20           Personal          1.5        2       false  \n",
            "21         Curricular          5.0        8       false  \n",
            "22         Curricular         55.0       10       false  \n",
            "23      Co-Curricular          1.5        6       false  \n",
            "24           Personal          1.5        2       false  \n",
            "25         Curricular         18.0        8       false  \n",
            "26   Extra-Curricular          5.0        4       false  \n",
            "27   Extra-Curricular         70.0        6       false  \n",
            "28   Extra-Curricular         45.0        4       false  \n",
            "29           Personal          2.0        2       false  \n",
            "30         Curricular          3.0       10       false  \n",
            "31         Curricular          6.0        8       false  \n",
            "32           Personal          1.5        2       false  \n",
            "33         Curricular          4.0        8       false  \n",
            "34   Extra-Curricular          8.0        4       false  \n",
            "35      Co-Curricular          1.5        6       false  \n",
            "36           Personal          1.5        2       false  \n",
            "37           Personal          2.0        2       false  \n",
            "38         Curricular         12.0        8       false  \n",
            "39      Co-Curricular          1.5        6       false  \n",
            "40           Personal          1.5        2       false  \n",
            "41      Co-Curricular          5.0        6       false  \n",
            "42   Extra-Curricular          6.0        4       false  \n",
            "43   Extra-Curricular         12.0        4       false  \n",
            "44           Personal          1.5        2       false  \n",
            "45           Personal          2.0        2       false  \n",
            "46         Curricular          7.0       10       false  \n",
            "47         Curricular          2.0        8       false  \n",
            "48           Personal          1.5        2       false  \n",
            "49   Extra-Curricular         15.0        4       false  \n",
            "\n",
            "[50 rows x 54 columns]\n"
          ]
        }
      ]
    },
    {
      "cell_type": "code",
      "source": [
        "X = df.iloc[:,:-2].values\n",
        "y = df.iloc[:,-2].values"
      ],
      "metadata": {
        "id": "sxWmhc84H7Ez"
      },
      "execution_count": 81,
      "outputs": []
    },
    {
      "cell_type": "code",
      "source": [
        "print(X)"
      ],
      "metadata": {
        "colab": {
          "base_uri": "https://localhost:8080/"
        },
        "id": "4OUWMh8IIjms",
        "outputId": "163f320f-89f0-426e-8d97-ccb2a855ae8b"
      },
      "execution_count": 82,
      "outputs": [
        {
          "output_type": "stream",
          "name": "stdout",
          "text": [
            "[[0 0 0 ... 0 ' Curricular' 4.0]\n",
            " [0 1 0 ... 0 ' Curricular' 10.0]\n",
            " [0 0 0 ... 0 ' Personal' 2.0]\n",
            " ...\n",
            " [0 0 0 ... 0 ' Curricular' 2.0]\n",
            " [0 0 0 ... 0 ' Personal' 1.5]\n",
            " [0 0 0 ... 1 ' Extra-Curricular' 15.0]]\n"
          ]
        }
      ]
    },
    {
      "cell_type": "code",
      "source": [
        "print(y)"
      ],
      "metadata": {
        "colab": {
          "base_uri": "https://localhost:8080/"
        },
        "id": "PjXP3ATjIkmO",
        "outputId": "5e2bbb73-b705-4ebe-a066-802199ffede0"
      },
      "execution_count": 83,
      "outputs": [
        {
          "output_type": "stream",
          "name": "stdout",
          "text": [
            "[10  7  2  8  4  2  9  6  4  7  2  8  6 10  2 10  6  4  8  4  2  8 10  6\n",
            "  2  8  4  6  4  2 10  8  2  8  4  6  2  2  8  6  2  6  4  4  2  2 10  8\n",
            "  2  4]\n"
          ]
        }
      ]
    },
    {
      "cell_type": "code",
      "source": [
        "from sklearn.preprocessing import OneHotEncoder\n",
        "from sklearn.compose import ColumnTransformer\n",
        "\n",
        "ct = ColumnTransformer(transformers=[('encoder', OneHotEncoder(), [50])], remainder='passthrough')\n",
        "# transformer: what kind of transformation and for what columns. remainder: what to do with other columns\n",
        "X = np.array(ct.fit_transform(X))"
      ],
      "metadata": {
        "id": "LfQc0nlDImfx"
      },
      "execution_count": 84,
      "outputs": []
    },
    {
      "cell_type": "code",
      "source": [
        "X"
      ],
      "metadata": {
        "colab": {
          "base_uri": "https://localhost:8080/"
        },
        "id": "RjUHsNMJJNbh",
        "outputId": "6f1f1e17-4146-449a-a918-2a5b148e1ca0",
        "collapsed": true
      },
      "execution_count": 85,
      "outputs": [
        {
          "output_type": "execute_result",
          "data": {
            "text/plain": [
              "array([[0.0, 1.0, 0.0, ..., 0, 0, 4.0],\n",
              "       [0.0, 1.0, 0.0, ..., 0, 0, 10.0],\n",
              "       [0.0, 0.0, 0.0, ..., 0, 0, 2.0],\n",
              "       ...,\n",
              "       [0.0, 1.0, 0.0, ..., 0, 0, 2.0],\n",
              "       [0.0, 0.0, 0.0, ..., 0, 0, 1.5],\n",
              "       [0.0, 0.0, 1.0, ..., 0, 1, 15.0]], dtype=object)"
            ]
          },
          "metadata": {},
          "execution_count": 85
        }
      ]
    },
    {
      "cell_type": "code",
      "source": [
        "from sklearn.ensemble import RandomForestRegressor\n",
        "rf_reg = RandomForestRegressor(n_estimators=10, random_state=0)\n",
        "rf_reg.fit(X, y)"
      ],
      "metadata": {
        "colab": {
          "base_uri": "https://localhost:8080/",
          "height": 74
        },
        "id": "W2ZhuB46SKZl",
        "outputId": "902edb19-c67d-45e8-d609-9849efa27835"
      },
      "execution_count": 86,
      "outputs": [
        {
          "output_type": "execute_result",
          "data": {
            "text/plain": [
              "RandomForestRegressor(n_estimators=10, random_state=0)"
            ],
            "text/html": [
              "<style>#sk-container-id-1 {color: black;background-color: white;}#sk-container-id-1 pre{padding: 0;}#sk-container-id-1 div.sk-toggleable {background-color: white;}#sk-container-id-1 label.sk-toggleable__label {cursor: pointer;display: block;width: 100%;margin-bottom: 0;padding: 0.3em;box-sizing: border-box;text-align: center;}#sk-container-id-1 label.sk-toggleable__label-arrow:before {content: \"▸\";float: left;margin-right: 0.25em;color: #696969;}#sk-container-id-1 label.sk-toggleable__label-arrow:hover:before {color: black;}#sk-container-id-1 div.sk-estimator:hover label.sk-toggleable__label-arrow:before {color: black;}#sk-container-id-1 div.sk-toggleable__content {max-height: 0;max-width: 0;overflow: hidden;text-align: left;background-color: #f0f8ff;}#sk-container-id-1 div.sk-toggleable__content pre {margin: 0.2em;color: black;border-radius: 0.25em;background-color: #f0f8ff;}#sk-container-id-1 input.sk-toggleable__control:checked~div.sk-toggleable__content {max-height: 200px;max-width: 100%;overflow: auto;}#sk-container-id-1 input.sk-toggleable__control:checked~label.sk-toggleable__label-arrow:before {content: \"▾\";}#sk-container-id-1 div.sk-estimator input.sk-toggleable__control:checked~label.sk-toggleable__label {background-color: #d4ebff;}#sk-container-id-1 div.sk-label input.sk-toggleable__control:checked~label.sk-toggleable__label {background-color: #d4ebff;}#sk-container-id-1 input.sk-hidden--visually {border: 0;clip: rect(1px 1px 1px 1px);clip: rect(1px, 1px, 1px, 1px);height: 1px;margin: -1px;overflow: hidden;padding: 0;position: absolute;width: 1px;}#sk-container-id-1 div.sk-estimator {font-family: monospace;background-color: #f0f8ff;border: 1px dotted black;border-radius: 0.25em;box-sizing: border-box;margin-bottom: 0.5em;}#sk-container-id-1 div.sk-estimator:hover {background-color: #d4ebff;}#sk-container-id-1 div.sk-parallel-item::after {content: \"\";width: 100%;border-bottom: 1px solid gray;flex-grow: 1;}#sk-container-id-1 div.sk-label:hover label.sk-toggleable__label {background-color: #d4ebff;}#sk-container-id-1 div.sk-serial::before {content: \"\";position: absolute;border-left: 1px solid gray;box-sizing: border-box;top: 0;bottom: 0;left: 50%;z-index: 0;}#sk-container-id-1 div.sk-serial {display: flex;flex-direction: column;align-items: center;background-color: white;padding-right: 0.2em;padding-left: 0.2em;position: relative;}#sk-container-id-1 div.sk-item {position: relative;z-index: 1;}#sk-container-id-1 div.sk-parallel {display: flex;align-items: stretch;justify-content: center;background-color: white;position: relative;}#sk-container-id-1 div.sk-item::before, #sk-container-id-1 div.sk-parallel-item::before {content: \"\";position: absolute;border-left: 1px solid gray;box-sizing: border-box;top: 0;bottom: 0;left: 50%;z-index: -1;}#sk-container-id-1 div.sk-parallel-item {display: flex;flex-direction: column;z-index: 1;position: relative;background-color: white;}#sk-container-id-1 div.sk-parallel-item:first-child::after {align-self: flex-end;width: 50%;}#sk-container-id-1 div.sk-parallel-item:last-child::after {align-self: flex-start;width: 50%;}#sk-container-id-1 div.sk-parallel-item:only-child::after {width: 0;}#sk-container-id-1 div.sk-dashed-wrapped {border: 1px dashed gray;margin: 0 0.4em 0.5em 0.4em;box-sizing: border-box;padding-bottom: 0.4em;background-color: white;}#sk-container-id-1 div.sk-label label {font-family: monospace;font-weight: bold;display: inline-block;line-height: 1.2em;}#sk-container-id-1 div.sk-label-container {text-align: center;}#sk-container-id-1 div.sk-container {/* jupyter's `normalize.less` sets `[hidden] { display: none; }` but bootstrap.min.css set `[hidden] { display: none !important; }` so we also need the `!important` here to be able to override the default hidden behavior on the sphinx rendered scikit-learn.org. See: https://github.com/scikit-learn/scikit-learn/issues/21755 */display: inline-block !important;position: relative;}#sk-container-id-1 div.sk-text-repr-fallback {display: none;}</style><div id=\"sk-container-id-1\" class=\"sk-top-container\"><div class=\"sk-text-repr-fallback\"><pre>RandomForestRegressor(n_estimators=10, random_state=0)</pre><b>In a Jupyter environment, please rerun this cell to show the HTML representation or trust the notebook. <br />On GitHub, the HTML representation is unable to render, please try loading this page with nbviewer.org.</b></div><div class=\"sk-container\" hidden><div class=\"sk-item\"><div class=\"sk-estimator sk-toggleable\"><input class=\"sk-toggleable__control sk-hidden--visually\" id=\"sk-estimator-id-1\" type=\"checkbox\" checked><label for=\"sk-estimator-id-1\" class=\"sk-toggleable__label sk-toggleable__label-arrow\">RandomForestRegressor</label><div class=\"sk-toggleable__content\"><pre>RandomForestRegressor(n_estimators=10, random_state=0)</pre></div></div></div></div></div>"
            ]
          },
          "metadata": {},
          "execution_count": 86
        }
      ]
    },
    {
      "cell_type": "code",
      "source": [
        "def prep(task):\n",
        "  desc= task[0]\n",
        "  typ=task[1]\n",
        "  hrsleft=task[2]\n",
        "  ps=PorterStemmer()\n",
        "  all_stopwords = stopwords.words('english')\n",
        "  ntask = [ps.stem(word) for word in desc if word not in all_stopwords]\n",
        "  ntask = ' '.join(ntask)\n",
        "  ncorpus=[ntask]\n",
        "  n_test=cv.transform(ncorpus).toarray()\n",
        "  ntest_ = n_test[0]\n",
        "  prep_ = [i for i in ntest_]\n",
        "  prep_.append(hrsleft)\n",
        "  if typ == 'Curricular':\n",
        "    prep_.insert(0, 0.0)\n",
        "    prep_.insert(1, 1.0)\n",
        "    prep_.insert(2, 0.0)\n",
        "    prep_.insert(3, 0.0)\n",
        "  elif typ == 'Personal':\n",
        "    prep_.insert(0, 0.0)\n",
        "    prep_.insert(1, 0.0)\n",
        "    prep_.insert(2, 0.0)\n",
        "    prep_.insert(3, 1.0)\n",
        "  elif typ == 'Co-Curricular':\n",
        "    prep_.insert(0, 1.0)\n",
        "    prep_.insert(1, 0.0)\n",
        "    prep_.insert(2, 0.0)\n",
        "    prep_.insert(3, 0.0)\n",
        "  else:\n",
        "    prep_.insert(0, 0.0)\n",
        "    prep_.insert(1, 0.0)\n",
        "    prep_.insert(2, 1.0)\n",
        "    prep_.insert(3, 0.0)\n",
        "\n",
        "  print(prep_)\n",
        "  return prep_\n",
        "\n"
      ],
      "metadata": {
        "id": "MoHkak6JY520"
      },
      "execution_count": 123,
      "outputs": []
    },
    {
      "cell_type": "code",
      "source": [
        "result = [prep(['maths homework', 'Curricular', 3])]"
      ],
      "metadata": {
        "colab": {
          "base_uri": "https://localhost:8080/"
        },
        "id": "DQV0vMv8Z0_P",
        "outputId": "f04b0655-6e57-4562-df67-12587e7c97a9"
      },
      "execution_count": 128,
      "outputs": [
        {
          "output_type": "stream",
          "name": "stdout",
          "text": [
            "[0.0, 1.0, 0.0, 0.0, 0, 0, 0, 0, 0, 0, 0, 0, 0, 0, 0, 0, 0, 0, 0, 0, 0, 0, 0, 0, 0, 0, 0, 0, 0, 0, 0, 0, 0, 0, 0, 0, 0, 0, 0, 0, 0, 0, 0, 0, 0, 0, 0, 0, 0, 0, 0, 0, 0, 0, 3]\n"
          ]
        }
      ]
    },
    {
      "cell_type": "code",
      "source": [
        "print(result)"
      ],
      "metadata": {
        "colab": {
          "base_uri": "https://localhost:8080/"
        },
        "id": "IUvo3yz6f76h",
        "outputId": "aad5f7f8-15d0-4a0e-d7d0-163f6c0d3786"
      },
      "execution_count": 129,
      "outputs": [
        {
          "output_type": "stream",
          "name": "stdout",
          "text": [
            "[[0.0, 1.0, 0.0, 0.0, 0, 0, 0, 0, 0, 0, 0, 0, 0, 0, 0, 0, 0, 0, 0, 0, 0, 0, 0, 0, 0, 0, 0, 0, 0, 0, 0, 0, 0, 0, 0, 0, 0, 0, 0, 0, 0, 0, 0, 0, 0, 0, 0, 0, 0, 0, 0, 0, 0, 0, 3]]\n"
          ]
        }
      ]
    },
    {
      "cell_type": "code",
      "source": [
        "rf_reg.predict(result)"
      ],
      "metadata": {
        "colab": {
          "base_uri": "https://localhost:8080/"
        },
        "id": "Lvz2_KN4f482",
        "outputId": "cc7f18f1-69a6-42b4-868d-d2442894459f"
      },
      "execution_count": 130,
      "outputs": [
        {
          "output_type": "execute_result",
          "data": {
            "text/plain": [
              "array([8.2])"
            ]
          },
          "metadata": {},
          "execution_count": 130
        }
      ]
    },
    {
      "cell_type": "code",
      "source": [],
      "metadata": {
        "id": "2T3o68mIgBS1"
      },
      "execution_count": null,
      "outputs": []
    }
  ]
}